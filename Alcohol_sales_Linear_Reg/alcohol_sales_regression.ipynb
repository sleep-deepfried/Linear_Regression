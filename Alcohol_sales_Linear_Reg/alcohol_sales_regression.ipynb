{
 "cells": [
  {
   "cell_type": "markdown",
   "id": "0b9df2f8",
   "metadata": {},
   "source": [
    "# Linear Regression of Alcohol Sales\n",
    "CET 0212-5\n",
    "Group 8\n",
    "Calisay,Anne Krishane\n",
    "Gabriel, Luis Maverick\n",
    "Eslabra, Jan Kristian\n",
    "Labrador, Lain\n",
    "Santos, Cedrick\n",
    "Pulido, Earl John\n",
    "Sebastian, Isaiah Kristian\n",
    "Nono, Ricardo"
   ]
  },
  {
   "cell_type": "code",
   "execution_count": 185,
   "id": "364d3904",
   "metadata": {},
   "outputs": [],
   "source": [
    "# import libraries\n",
    "import numpy as np \n",
    "import pandas as pd\n",
    "import matplotlib.pyplot as plt"
   ]
  },
  {
   "cell_type": "code",
   "execution_count": 186,
   "id": "5c819515",
   "metadata": {},
   "outputs": [
    {
     "data": {
      "text/html": [
       "<div>\n",
       "<style scoped>\n",
       "    .dataframe tbody tr th:only-of-type {\n",
       "        vertical-align: middle;\n",
       "    }\n",
       "\n",
       "    .dataframe tbody tr th {\n",
       "        vertical-align: top;\n",
       "    }\n",
       "\n",
       "    .dataframe thead th {\n",
       "        text-align: right;\n",
       "    }\n",
       "</style>\n",
       "<table border=\"1\" class=\"dataframe\">\n",
       "  <thead>\n",
       "    <tr style=\"text-align: right;\">\n",
       "      <th></th>\n",
       "      <th>DATE</th>\n",
       "      <th>SALES</th>\n",
       "    </tr>\n",
       "  </thead>\n",
       "  <tbody>\n",
       "    <tr>\n",
       "      <th>0</th>\n",
       "      <td>1 01 1992</td>\n",
       "      <td>3459</td>\n",
       "    </tr>\n",
       "    <tr>\n",
       "      <th>1</th>\n",
       "      <td>1 02 1992</td>\n",
       "      <td>3458</td>\n",
       "    </tr>\n",
       "    <tr>\n",
       "      <th>2</th>\n",
       "      <td>1 03 1992</td>\n",
       "      <td>4002</td>\n",
       "    </tr>\n",
       "    <tr>\n",
       "      <th>3</th>\n",
       "      <td>1 04 1992</td>\n",
       "      <td>4564</td>\n",
       "    </tr>\n",
       "    <tr>\n",
       "      <th>4</th>\n",
       "      <td>1 05 1992</td>\n",
       "      <td>4221</td>\n",
       "    </tr>\n",
       "  </tbody>\n",
       "</table>\n",
       "</div>"
      ],
      "text/plain": [
       "        DATE  SALES\n",
       "0  1 01 1992   3459\n",
       "1  1 02 1992   3458\n",
       "2  1 03 1992   4002\n",
       "3  1 04 1992   4564\n",
       "4  1 05 1992   4221"
      ]
     },
     "execution_count": 186,
     "metadata": {},
     "output_type": "execute_result"
    }
   ],
   "source": [
    "# import dataset\n",
    "alcohol_sales=pd.read_csv(\"C:/Users/Earl/Desktop/EDA_Linear_Regression/Alcohol_Sales.csv\")\n",
    "alcohol_sales.head()"
   ]
  },
  {
   "attachments": {},
   "cell_type": "markdown",
   "id": "9bc8c8f0",
   "metadata": {},
   "source": [
    "# Assigning the X and y values\n",
    "where: X = dates and y = sales "
   ]
  },
  {
   "cell_type": "code",
   "execution_count": 187,
   "id": "adbfdbbd",
   "metadata": {},
   "outputs": [],
   "source": [
    "# Define the x variable\n",
    "dates=alcohol_sales.iloc[:,:-1].values\n",
    "\n",
    "# Convert the dates column to a datetime object\n",
    "alcohol_sales['dates'] = pd.to_datetime(alcohol_sales['DATE'])\n",
    "\n",
    "# Extract the year from the dates as a new numerical feature\n",
    "alcohol_sales['year'] = alcohol_sales['dates'].dt.year\n",
    "\n",
    "# Use the month column as the input to your linear regression model\n",
    "X = alcohol_sales[['year']]\n",
    "\n",
    "# Define the y variable\n",
    "y = alcohol_sales.iloc[:,1].values"
   ]
  },
  {
   "cell_type": "code",
   "execution_count": 188,
   "id": "39de7c70",
   "metadata": {},
   "outputs": [
    {
     "data": {
      "text/html": [
       "<div>\n",
       "<style scoped>\n",
       "    .dataframe tbody tr th:only-of-type {\n",
       "        vertical-align: middle;\n",
       "    }\n",
       "\n",
       "    .dataframe tbody tr th {\n",
       "        vertical-align: top;\n",
       "    }\n",
       "\n",
       "    .dataframe thead th {\n",
       "        text-align: right;\n",
       "    }\n",
       "</style>\n",
       "<table border=\"1\" class=\"dataframe\">\n",
       "  <thead>\n",
       "    <tr style=\"text-align: right;\">\n",
       "      <th></th>\n",
       "      <th>year</th>\n",
       "    </tr>\n",
       "  </thead>\n",
       "  <tbody>\n",
       "    <tr>\n",
       "      <th>0</th>\n",
       "      <td>1992</td>\n",
       "    </tr>\n",
       "    <tr>\n",
       "      <th>1</th>\n",
       "      <td>1992</td>\n",
       "    </tr>\n",
       "    <tr>\n",
       "      <th>2</th>\n",
       "      <td>1992</td>\n",
       "    </tr>\n",
       "    <tr>\n",
       "      <th>3</th>\n",
       "      <td>1992</td>\n",
       "    </tr>\n",
       "    <tr>\n",
       "      <th>4</th>\n",
       "      <td>1992</td>\n",
       "    </tr>\n",
       "    <tr>\n",
       "      <th>...</th>\n",
       "      <td>...</td>\n",
       "    </tr>\n",
       "    <tr>\n",
       "      <th>320</th>\n",
       "      <td>2018</td>\n",
       "    </tr>\n",
       "    <tr>\n",
       "      <th>321</th>\n",
       "      <td>2018</td>\n",
       "    </tr>\n",
       "    <tr>\n",
       "      <th>322</th>\n",
       "      <td>2018</td>\n",
       "    </tr>\n",
       "    <tr>\n",
       "      <th>323</th>\n",
       "      <td>2018</td>\n",
       "    </tr>\n",
       "    <tr>\n",
       "      <th>324</th>\n",
       "      <td>2019</td>\n",
       "    </tr>\n",
       "  </tbody>\n",
       "</table>\n",
       "<p>325 rows × 1 columns</p>\n",
       "</div>"
      ],
      "text/plain": [
       "     year\n",
       "0    1992\n",
       "1    1992\n",
       "2    1992\n",
       "3    1992\n",
       "4    1992\n",
       "..    ...\n",
       "320  2018\n",
       "321  2018\n",
       "322  2018\n",
       "323  2018\n",
       "324  2019\n",
       "\n",
       "[325 rows x 1 columns]"
      ]
     },
     "execution_count": 188,
     "metadata": {},
     "output_type": "execute_result"
    }
   ],
   "source": [
    "# Showing the value of X var\n",
    "X"
   ]
  },
  {
   "cell_type": "code",
   "execution_count": 189,
   "id": "20efc669",
   "metadata": {},
   "outputs": [
    {
     "data": {
      "text/plain": [
       "array([ 3459,  3458,  4002,  4564,  4221,  4529,  4466,  4137,  4126,\n",
       "        4259,  4240,  4936,  3031,  3261,  4160,  4377,  4307,  4696,\n",
       "        4458,  4457,  4364,  4236,  4500,  4974,  3075,  3377,  4443,\n",
       "        4261,  4460,  4985,  4324,  4719,  4374,  4248,  4784,  4971,\n",
       "        3370,  3484,  4269,  3994,  4715,  4974,  4223,  5000,  4235,\n",
       "        4554,  4851,  4826,  3699,  3983,  4262,  4619,  5219,  4836,\n",
       "        4941,  5062,  4365,  5012,  4850,  5097,  3758,  3825,  4454,\n",
       "        4635,  5210,  5057,  5231,  5034,  4970,  5342,  4831,  5965,\n",
       "        3796,  4019,  4898,  5090,  5237,  5447,  5435,  5107,  5515,\n",
       "        5583,  5346,  6286,  4032,  4435,  5479,  5483,  5587,  6176,\n",
       "        5621,  5889,  5828,  5849,  6180,  6771,  4243,  4952,  6008,\n",
       "        5353,  6435,  6673,  5636,  6630,  5887,  6322,  6520,  6678,\n",
       "        5082,  5216,  5893,  5894,  6799,  6667,  6374,  6840,  5575,\n",
       "        6545,  6789,  7180,  5117,  5442,  6337,  6525,  7216,  6761,\n",
       "        6958,  7070,  6148,  6924,  6716,  7975,  5326,  5609,  6414,\n",
       "        6741,  7144,  7133,  7568,  7266,  6634,  7626,  6843,  8540,\n",
       "        5629,  5898,  7045,  7094,  7333,  7918,  7289,  7396,  7259,\n",
       "        7268,  7731,  9058,  5557,  6237,  7723,  7262,  8241,  8757,\n",
       "        7352,  8496,  7741,  7710,  8247,  8902,  6066,  6590,  7923,\n",
       "        7335,  8843,  9327,  7792,  9156,  8037,  8640,  9128,  9545,\n",
       "        6627,  6743,  8195,  7828,  9570,  9484,  8608,  9543,  8123,\n",
       "        9649,  9390, 10065,  7093,  7483,  8365,  8895,  9794,  9977,\n",
       "        9553,  9375,  9225,  9948,  8758, 10839,  7266,  7578,  8688,\n",
       "        9162,  9369, 10167,  9507,  8923,  9272,  9075,  8949, 10843,\n",
       "        6558,  7481,  9475,  9424,  9351, 10552,  9077,  9273,  9420,\n",
       "        9413,  9866, 11455,  6901,  8014,  9832,  9281,  9967, 11344,\n",
       "        9106, 10469, 10085,  9612, 10328, 11483,  7486,  8641,  9709,\n",
       "        9423, 11342, 11274,  9845, 11163,  9532, 10754, 10953, 11922,\n",
       "        8395,  8888, 10110, 10493, 12218, 11385, 11186, 11462, 10494,\n",
       "       11540, 11138, 12709,  8557,  9059, 10055, 10977, 11792, 11904,\n",
       "       10965, 10981, 10828, 11817, 10470, 13310,  8400,  9062, 10722,\n",
       "       11107, 11508, 12904, 11869, 11224, 12022, 11983, 11506, 14183,\n",
       "        8648, 10321, 12107, 11420, 12238, 13681, 10950, 12700, 12272,\n",
       "       11905, 13016, 14421,  9043, 10452, 12481, 11491, 13545, 14730,\n",
       "       11416, 13402, 11907, 12711, 13261, 14265,  9564, 10415, 12683,\n",
       "       11919, 14138, 14583, 12640, 14257, 12396, 13914, 14174, 15504,\n",
       "       10718], dtype=int64)"
      ]
     },
     "execution_count": 189,
     "metadata": {},
     "output_type": "execute_result"
    }
   ],
   "source": [
    "# showing the value of y varible\n",
    "y"
   ]
  },
  {
   "cell_type": "markdown",
   "id": "ae773dfc",
   "metadata": {},
   "source": [
    "# Spliting the dataset into training and testing\n",
    "70 and 30"
   ]
  },
  {
   "cell_type": "code",
   "execution_count": 190,
   "id": "216e1635",
   "metadata": {},
   "outputs": [],
   "source": [
    "# import library for this process\n",
    "from sklearn.model_selection import train_test_split\n",
    "X_train, X_test, y_train, y_test = train_test_split(X, y, test_size=0.3, random_state=0)"
   ]
  },
  {
   "cell_type": "code",
   "execution_count": 191,
   "id": "2fc25767",
   "metadata": {},
   "outputs": [
    {
     "data": {
      "text/plain": [
       "(     year\n",
       " 29   1994\n",
       " 103  2000\n",
       " 20   1993\n",
       " 46   1995\n",
       " 315  2018\n",
       " ..    ...\n",
       " 251  2012\n",
       " 192  2008\n",
       " 117  2001\n",
       " 47   1995\n",
       " 172  2006\n",
       " \n",
       " [227 rows x 1 columns],\n",
       "      year\n",
       " 256  2013\n",
       " 65   1997\n",
       " 15   1993\n",
       " 66   1997\n",
       " 269  2014\n",
       " ..    ...\n",
       " 73   1998\n",
       " 318  2018\n",
       " 309  2017\n",
       " 124  2002\n",
       " 134  2003\n",
       " \n",
       " [98 rows x 1 columns],\n",
       " array([ 4985,  6630,  4364,  4851, 11919,  8557,  7481,  6176,  8688,\n",
       "         4261, 10085,  5575, 12904,  3484,  9156,  4941,  9553, 11138,\n",
       "        13681,  7133,  9390,  9794, 11907, 11274, 14730,  8241,  4971,\n",
       "         5636,  5237,  6520, 11905,  8247, 10981,  9545,  4235,  7289,\n",
       "         6924,  9967,  5894,  8365, 10718,  4458, 11506,  5107,  5965,\n",
       "        12107, 10828,  9564, 12022, 10167,  6286, 10754,  6789,  7262,\n",
       "        13545,  5893,  9866,  7259,  4307,  5090,  5216,  8949,  7486,\n",
       "         7266,  4221,  4243, 11540,  3825,  5034,  7731,  7335,  8641,\n",
       "         9424, 11491,  4715, 10110,  3261,  6678, 11483,  4564,  9225,\n",
       "         6761,  3075,  4324,  5447, 10452,  8014, 12396,  4457, 14138,\n",
       "        11107,  8195, 12683,  5515,  4619,  4002,  4936,  5887,  9351,\n",
       "         5479,  4240, 10469, 13261,  4850,  4974,  4160,  9058,  4262,\n",
       "        10493, 13402, 11792, 14257,  6525, 12272,  4454,  9832, 12709,\n",
       "         6716,  9543,  8395,  9420,  8888,  5000,  6374,  7568, 10328,\n",
       "        11462,  9948,  7918,  6799,  7578, 13310,  6008, 11186,  5849,\n",
       "        11163,  7352,  3370,  9128,  6667,  3459,  6180, 14421,  6771,\n",
       "        13914, 11224,  6590,  5342,  3983,  3699,  4435, 14174,  7626,\n",
       "         9162,  4974,  8608, 11455,  7333,  8540,  6627,  7975, 10321,\n",
       "        15504, 10839,  4032,  5442, 10722, 13016,  5889,  5346, 10977,\n",
       "         7180,  5012, 11385, 14183,  4223,  6322, 11817, 12700,  4269,\n",
       "         4836, 11508,  6148,  4460,  7828,  8496,  7396, 11342,  8758,\n",
       "         4719,  4374,  7070,  9484, 12481,  8648, 10950,  7094, 11983,\n",
       "         9043,  8640,  5353,  9977,  9423,  6840,  9059,  3796,  3377,\n",
       "         7710, 14265,  7792, 10415,  3994,  7483,  5587,  4831,  5483,\n",
       "        12238,  9709,  9062,  8923,  4259,  8895, 11922,  7093,  6545,\n",
       "         4826,  8843], dtype=int64),\n",
       " array([12218,  5057,  4377,  5231, 11904,  9612,  5609, 10965,  5097,\n",
       "         4635,  5828,  4952,  9106, 11869,  5557,  5898, 10843,  9369,\n",
       "         5062, 10470, 10055,  6066,  9507,  4443,  6558,  7741,  9532,\n",
       "         5583,  7923,  9570,  7268,  9413,  4137,  4466, 10494,  3758,\n",
       "         4500,  8902,  4236,  4970,  5435,  3031,  7144,  4898,  5082,\n",
       "         6435,  9281,  4696,  8757,  6237,  9845,  9075,  6743, 11416,\n",
       "         5210, 10065,  5117,  7266, 11344,  6741,  5219,  9077,  9475,\n",
       "         4365, 14583,  3458, 10953,  4126,  9272, 11420,  7045,  6958,\n",
       "         9273,  9375,  4529,  4248,  9649,  4784,  5326,  6337,  8400,\n",
       "         6843,  4554,  9327, 10552,  8037,  5629,  5621,  6901,  6673,\n",
       "         8123,  7723,  6634,  4019, 12640, 12711,  7216,  6414],\n",
       "       dtype=int64))"
      ]
     },
     "execution_count": 191,
     "metadata": {},
     "output_type": "execute_result"
    }
   ],
   "source": [
    "#printing the values\n",
    "X_train, X_test, y_train, y_test"
   ]
  },
  {
   "attachments": {},
   "cell_type": "markdown",
   "id": "c5c80305",
   "metadata": {},
   "source": [
    "# Now lets work with the regression\n"
   ]
  },
  {
   "cell_type": "code",
   "execution_count": 192,
   "id": "42f3ff59",
   "metadata": {},
   "outputs": [
    {
     "data": {
      "text/plain": [
       "LinearRegression()"
      ]
     },
     "execution_count": 192,
     "metadata": {},
     "output_type": "execute_result"
    }
   ],
   "source": [
    "# import library for regression\n",
    "from sklearn.linear_model import LinearRegression\n",
    "\n",
    "#function for regression\n",
    "regressor=LinearRegression()\n",
    "\n",
    "#fitting the regression with the split dataset\n",
    "regressor.fit(X_train, y_train)"
   ]
  },
  {
   "cell_type": "code",
   "execution_count": 193,
   "id": "b4edfe26",
   "metadata": {},
   "outputs": [
    {
     "data": {
      "text/plain": [
       "array([10754.77486739,  5138.53342312,  3734.47306206,  5138.53342312,\n",
       "       11105.78995766, 10052.74468686,  7244.62396472, 11105.78995766,\n",
       "        4787.51833286,  5138.53342312,  5840.56360366,  6191.57869392,\n",
       "       10052.74468686, 11456.80504792,  7946.65414526,  7595.63905499,\n",
       "        9350.71450632,  9350.71450632,  4787.51833286, 11105.78995766,\n",
       "       11105.78995766,  8297.66923552,  9350.71450632,  4085.48815232,\n",
       "        9701.72959659,  7946.65414526, 10403.75977712,  5489.54851339,\n",
       "        8297.66923552,  8648.68432579,  7595.63905499,  9701.72959659,\n",
       "        3383.45797179,  3383.45797179, 10754.77486739,  5138.53342312,\n",
       "        3734.47306206,  7946.65414526,  3734.47306206,  5138.53342312,\n",
       "        5489.54851339,  3734.47306206,  7244.62396472,  5489.54851339,\n",
       "        6542.59378419,  6191.57869392, 10052.74468686,  3734.47306206,\n",
       "        7946.65414526,  7946.65414526, 10403.75977712,  9350.71450632,\n",
       "        8648.68432579, 12158.83522846,  5138.53342312,  8648.68432579,\n",
       "        6893.60887446,  9350.71450632, 10052.74468686,  7244.62396472,\n",
       "        4787.51833286,  9701.72959659,  9701.72959659,  4787.51833286,\n",
       "       12509.85031872,  3383.45797179, 10403.75977712,  3383.45797179,\n",
       "        9350.71450632, 11807.82013819,  7595.63905499,  6893.60887446,\n",
       "        9701.72959659,  8999.69941606,  3383.45797179,  4085.48815232,\n",
       "        8648.68432579,  4085.48815232,  7244.62396472,  6893.60887446,\n",
       "       11456.80504792,  7244.62396472,  4436.50324259,  8297.66923552,\n",
       "        9701.72959659,  8297.66923552,  7595.63905499,  5840.56360366,\n",
       "       10052.74468686,  6191.57869392,  8648.68432579,  7946.65414526,\n",
       "        7244.62396472,  5489.54851339, 12509.85031872, 12158.83522846,\n",
       "        6893.60887446,  7244.62396472])"
      ]
     },
     "execution_count": 193,
     "metadata": {},
     "output_type": "execute_result"
    }
   ],
   "source": [
    "# Predicting the test set result\n",
    "y_pred=regressor.predict(X_test)\n",
    "y_pred"
   ]
  },
  {
   "cell_type": "code",
   "execution_count": 194,
   "id": "7e9e8eb0",
   "metadata": {},
   "outputs": [
    {
     "data": {
      "text/plain": [
       "array([12218,  5057,  4377,  5231, 11904,  9612,  5609, 10965,  5097,\n",
       "        4635,  5828,  4952,  9106, 11869,  5557,  5898, 10843,  9369,\n",
       "        5062, 10470, 10055,  6066,  9507,  4443,  6558,  7741,  9532,\n",
       "        5583,  7923,  9570,  7268,  9413,  4137,  4466, 10494,  3758,\n",
       "        4500,  8902,  4236,  4970,  5435,  3031,  7144,  4898,  5082,\n",
       "        6435,  9281,  4696,  8757,  6237,  9845,  9075,  6743, 11416,\n",
       "        5210, 10065,  5117,  7266, 11344,  6741,  5219,  9077,  9475,\n",
       "        4365, 14583,  3458, 10953,  4126,  9272, 11420,  7045,  6958,\n",
       "        9273,  9375,  4529,  4248,  9649,  4784,  5326,  6337,  8400,\n",
       "        6843,  4554,  9327, 10552,  8037,  5629,  5621,  6901,  6673,\n",
       "        8123,  7723,  6634,  4019, 12640, 12711,  7216,  6414],\n",
       "      dtype=int64)"
      ]
     },
     "execution_count": 194,
     "metadata": {},
     "output_type": "execute_result"
    }
   ],
   "source": [
    "y_test"
   ]
  },
  {
   "attachments": {},
   "cell_type": "markdown",
   "id": "25e958e0",
   "metadata": {},
   "source": [
    "# Visualizing the Trained Model\n",
    "\n"
   ]
  },
  {
   "cell_type": "code",
   "execution_count": 199,
   "id": "a2ea83e4",
   "metadata": {},
   "outputs": [
    {
     "data": {
      "image/png": "[encoded data removed]",
      "text/plain": [
       "<Figure size 432x288 with 1 Axes>"
      ]
     },
     "metadata": {
      "needs_background": "light"
     },
     "output_type": "display_data"
    }
   ],
   "source": [
    "# Visualizing the training set result\n",
    "plt.scatter(X_train['year'], y_train, color='red')\n",
    "plt.plot(X_train['year'], regressor.predict(X_train), color='blue')\n",
    "plt.title('Linear Regression Sales vs Year (Training Set)', size=20)\n",
    "plt.xlabel('Year', size=15)\n",
    "plt.ylabel('Sales', size=15)\n",
    "plt.show()"
   ]
  },
  {
   "attachments": {},
   "cell_type": "markdown",
   "id": "eb94eae4",
   "metadata": {},
   "source": [
    "# Visualizing the Test Model\n"
   ]
  },
  {
   "cell_type": "code",
   "execution_count": 198,
   "id": "658f50b5",
   "metadata": {},
   "outputs": [
    {
     "data": {
      "image/png": "[encoded data removed]",
      "text/plain": [
       "<Figure size 432x288 with 1 Axes>"
      ]
     },
     "metadata": {
      "needs_background": "light"
     },
     "output_type": "display_data"
    },
    {
     "name": "stdout",
     "output_type": "stream",
     "text": [
      "Mean squared error: 1133715.68\n",
      "Variance score: 0.83\n"
     ]
    }
   ],
   "source": [
    "# Visualizing the test set result\n",
    "plt.scatter(X_test['year'], y_test, color='red')\n",
    "plt.plot(X_train['year'], regressor.predict(X_train), color='blue')\n",
    "plt.title('Linear Regression Sales vs Year (Test Set)', size=20)\n",
    "plt.xlabel('Year', size=15)\n",
    "plt.ylabel('Sales', size=15)\n",
    "plt.show()\n",
    "\n",
    "# import library for this process\n",
    "from sklearn.metrics import mean_squared_error, r2_score\n",
    "\n",
    "# Mean squared error\n",
    "print(\"Mean squared error: %.2f\" % mean_squared_error(y_test, y_pred))\n",
    "\n",
    "# Explained variance score: 1 is perfect prediction\n",
    "print('Variance score: %.2f' % r2_score(y_test, y_pred))\n",
    "\n",
    "# Mean squared error: 0.00\n",
    "# Variance score: 1.00"
   ]
  },
  {
   "cell_type": "code",
   "execution_count": null,
   "id": "72f09966",
   "metadata": {},
   "outputs": [],
   "source": []
  }
 ],
 "metadata": {
  "kernelspec": {
   "display_name": "base",
   "language": "python",
   "name": "python3"
  },
  "language_info": {
   "codemirror_mode": {
    "name": "ipython",
    "version": 3
   },
   "file_extension": ".py",
   "mimetype": "text/x-python",
   "name": "python",
   "nbconvert_exporter": "python",
   "pygments_lexer": "ipython3",
   "version": "3.9.12"
  },
  "vscode": {
   "interpreter": {
    "hash": "e09e6da4349083f2fe68af2aa1c864e95b1da557138763e4edbc7187237670c2"
   }
  }
 },
 "nbformat": 4,
 "nbformat_minor": 5
}
